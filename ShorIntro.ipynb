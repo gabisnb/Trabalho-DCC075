{
 "cells": [
  {
   "cell_type": "code",
   "execution_count": 18,
   "id": "f45c42b0",
   "metadata": {},
   "outputs": [
    {
     "data": {
      "text/plain": [
       "'2.1.1'"
      ]
     },
     "execution_count": 18,
     "metadata": {},
     "output_type": "execute_result"
    }
   ],
   "source": [
    "import qiskit\n",
    "import qiskit.providers.basic_provider as basic_provider\n",
    "import qiskit.quantum_info as quantum_info\n",
    "from qiskit import QuantumCircuit, ClassicalRegister, QuantumRegister\n",
    "from qiskit.visualization import plot_histogram\n",
    "from qiskit_aer.primitives import Sampler\n",
    "\n",
    "import random, itertools\n",
    "import math\n",
    "import matplotlib.pyplot as plt\n",
    "\n",
    "qiskit.version.get_version_info()"
   ]
  },
  {
   "cell_type": "markdown",
   "id": "ef0c4533",
   "metadata": {},
   "source": [
    "# Algoritmo de Shor"
   ]
  },
  {
   "cell_type": "markdown",
   "id": "e53e4e0b",
   "metadata": {},
   "source": [
    "O algoritmo de Shor possui 3 partes:\n",
    "1. Reduzir o problema de fatoração ao problema de encontrar o período.\n",
    "2. Encontrar o período usando computação quântica.\n",
    "3. Calcular fatores usando o período calculado. "
   ]
  },
  {
   "cell_type": "code",
   "execution_count": 19,
   "id": "14747ed8",
   "metadata": {},
   "outputs": [
    {
     "data": {
      "text/html": [
       "\n",
       "        <iframe\n",
       "            width=\"560\"\n",
       "            height=\"315\"\n",
       "            src=\"https://www.youtube.com/embed/hOlOY7NyMfs?start=75&end=126\"\n",
       "            frameborder=\"0\"\n",
       "            allowfullscreen\n",
       "            \n",
       "        ></iframe>\n",
       "        "
      ],
      "text/plain": [
       "<IPython.lib.display.IFrame at 0x7f8e04adfdd0>"
      ]
     },
     "execution_count": 19,
     "metadata": {},
     "output_type": "execute_result"
    }
   ],
   "source": [
    "from IPython.display import IFrame\n",
    "IFrame(\"https://www.youtube.com/embed/hOlOY7NyMfs?start=75&end=126\",560,315)"
   ]
  },
  {
   "cell_type": "markdown",
   "id": "cdb70099",
   "metadata": {},
   "source": [
    "# Gerando N = p*q"
   ]
  },
  {
   "cell_type": "markdown",
   "id": "73b44b08",
   "metadata": {},
   "source": [
    "### Algoritmo de Eratosthenes"
   ]
  },
  {
   "cell_type": "code",
   "execution_count": 20,
   "id": "00006e43",
   "metadata": {},
   "outputs": [],
   "source": [
    "def sieve( ): # gera primos usando o algoritmo de Eratosthenes\n",
    "    D = {  }\n",
    "    yield 2\n",
    "    for q in itertools.islice(itertools.count(3), 0, None, 2):\n",
    "        p = D.pop(q, None)\n",
    "        if p is None:\n",
    "            D[q*q] = q\n",
    "            yield q\n",
    "        else:\n",
    "            x = p + q\n",
    "            while x in D or not (x&1):\n",
    "                x += p\n",
    "            D[x] = p\n",
    "\n",
    "def get_primes_sieve(n):\n",
    "    return list(itertools.takewhile(lambda p: p<n, sieve())) # gera um primo para cada p em range(n)\n",
    "\n",
    "def get_semiprime(n):\n",
    "    primes = get_primes_sieve(n) # gera n inteiros primos\n",
    "    l = len(primes)\n",
    "    p = primes[random.randrange(l)] # seleciona um primo aleatoriamente\n",
    "    q = primes[random.randrange(l)] # seleciona um primo aleatoriamente\n",
    "    return p*q"
   ]
  },
  {
   "cell_type": "code",
   "execution_count": 21,
   "id": "6f6257a6",
   "metadata": {},
   "outputs": [
    {
     "data": {
      "text/plain": [
       "36437"
      ]
     },
     "execution_count": 21,
     "metadata": {},
     "output_type": "execute_result"
    }
   ],
   "source": [
    "N = get_semiprime(500)\n",
    "N"
   ]
  },
  {
   "cell_type": "markdown",
   "id": "1c3f9c5b",
   "metadata": {},
   "source": [
    "# Redução de fatoração para cálculo de período\n",
    "A teoria dos números que fundamenta o algoritmo é a sequência modulo periódica. Por exemplo, tendo a sequência das potências de 2:\n",
    "\n",
    "$1, 2, 4, 8, 16, 32, 64, 128, ...$\n",
    "\n",
    "Quando calculamos o $mod15$ de cada elemento da sequência, obtemos a seguinte sequência periódica cujo período é 4:\n",
    "\n",
    "$1, 2, 4, 8, 1, 2, 4, 8, ...$\n",
    "\n",
    "Pode-se reduzir a fatoração de um número N para o cálculo do período da sequência $F(a) = x^a mod N$, onde x é coprimo de N, desde que a sequência seja periódica e $a>=0$.\n",
    "\n",
    "Obs: como $x^0modN=1$, temos que $x^rmodN=1$, onde r é o período da sequência.\n",
    "\n",
    "Podemos fazer uma manipulação algébrica para obter a fatoração de N:\n",
    "\n",
    "$x^r=1 mod N$\n",
    "\n",
    "$x^r=(x^{r/2})^2=1 mod N$\n",
    "\n",
    "$(x^{r/2})^2 - 1=0 mod N \\Rightarrow (x^{r/2}-1) (x^{r/2}+1)=0 mod N$\n",
    "\n",
    "Portanto, como $(x^{r/2}-1) (x^{r/2}+1)$ é múltiplo de $N$, a fatoração de $N$ será $gdc(x^{r/2}-1,N)$ e $gdc(x^{r/2}+1,N)$, desde que $(x^{r/2}-1)$ e $(x^{r/2}+1)$ não sejam multiplos de N."
   ]
  },
  {
   "cell_type": "markdown",
   "id": "722bc695",
   "metadata": {},
   "source": [
    "Exemplo: $N = 15$ e valores $1 < x < 15$\n",
    "\n",
    "<img src='./images/Captura de tela 2025-07-29 114312.png'>"
   ]
  },
  {
   "cell_type": "markdown",
   "id": "9c443139",
   "metadata": {},
   "source": [
    "# Encontrando o período com computação quântica"
   ]
  },
  {
   "cell_type": "markdown",
   "id": "bd594c95",
   "metadata": {},
   "source": [
    "1. Escolha um $T = 2^t$ tal que $N^2 <= T <= 2N^2$\n",
    "2. Inicializar dois registradores de qubits com estado inicial 0:\n",
    "    1. Registrador de argumento com $t$ qubits\n",
    "    2. Registrador de função com $n = log{_2}{N}$ qubits\n",
    "3. Aplicar portão de Hadamar em cada qubit do registrador 1 para gerar uma superposição igualitária entre todos os inteiros de $0$ a $T$.\n",
    "4. Implementar a função de exponenciação modular $x^a mod N$ no registrador 2\n",
    "    * $x$ será um coprimo de $N$.\n",
    "    * O registrador 2 possui paralelismo quântico, portanto, a cada iteração, todos os valores de $0$ a $T$ são atrelados aos valores correspondentes de $x^a mod N$, acelerando a execução significativamente. \n",
    "5. Realizar uma transformação quântica de Fourier sobre o registrador 1, onde apenas os termos cujo valor corresponde a $z = qT/r$ ganham amplitude significativa.\n",
    "    * Isso significa que a probabilidade desses termos aumenta significantemente em relação aos outros.\n",
    "    * $q$ é um inteiro aleatório entre $0$ e $r-1$.\n",
    "    * $r$ é o período de $x^a mod N$, que é o que se deseja encontrar.\n",
    "6. Medir o registrador 1 para obter o $z$.\n",
    "    * Se a probabilidade é razoável, a função contínua que aproxima $T/z$ será um inteiro múltiplo de $r$, que pode ser determinado pelo algorítmo de Euclides.\n",
    "\n",
    "    <!-- * A exponenciação modular se trata do módulo $N$ de uma sucessão de $t$ multiplicações da forma $x^{2^n a_n}$.\n",
    "\n",
    "        $x^a mod N = x^{2^{(t-1)} a_{t-1}} * x^{2^{(t-2)} a_{t-2}} * ... * x^{2 a_1} * x^{a_0}$\n",
    "    \n",
    "    * Esse produto pode ser escrito da forma:\n",
    "\n",
    "        $x^a mod N = x^{2^{(t-1)} a_{t-1}} *[x^{2^{(t-2)} a_{t-2}} * [ ... * [x^{2 a_1} * [x^{a_0} mod N] mod N] ... ] mod N] mod N$\n",
    "\n",
    "    * Dessa forma, $x mod N$ é multiplicado por 1 se, e somente se, $a_0 = 1$, $x^{2 a_1} mod N$ é multiplicado por $x^{a_0} mod N$ se, e somente se, $a_1$ é 1, e assim por diante. Portanto cada multiplicação é controlada pelo valor do qubit $a_t$ correspondente.\n",
    "    -->"
   ]
  },
  {
   "cell_type": "markdown",
   "id": "bfd2ce6e",
   "metadata": {},
   "source": [
    "## Implementação\n",
    "Tendo $N=15$, é possível fatorá-lo usando o seguinte circuito:"
   ]
  },
  {
   "cell_type": "markdown",
   "id": "d564aa69",
   "metadata": {},
   "source": [
    "<img src='./images/image.png'>"
   ]
  },
  {
   "cell_type": "markdown",
   "id": "39b5b349",
   "metadata": {},
   "source": [
    "### Circuitos E e D\n",
    "Circuito quântico para calcular $a^1 mod 15$ para $a =$ 2, 7, 8, 11 ou 13 (coprimos de 15)"
   ]
  },
  {
   "cell_type": "markdown",
   "id": "c896c424",
   "metadata": {},
   "source": [
    "#### Circuito E"
   ]
  },
  {
   "cell_type": "code",
   "execution_count": 22,
   "id": "a9433031",
   "metadata": {},
   "outputs": [],
   "source": [
    "# qc = circuito quântico, qr = registrador quântico, cr = registrador clássico, a = 2, 7, 8, 11 ou 13\n",
    "\n",
    "def circuit_amod15(qc,qr,cr,a):\n",
    "    if a == 2:\n",
    "        qc.cswap(qr[4],qr[3],qr[2])\n",
    "        qc.cswap(qr[4],qr[2],qr[1])\n",
    "        qc.cswap(qr[4],qr[1],qr[0])\n",
    "    elif a == 7:\n",
    "        qc.cswap(qr[4],qr[1],qr[0])\n",
    "        qc.cswap(qr[4],qr[2],qr[1])\n",
    "        qc.cswap(qr[4],qr[3],qr[2])\n",
    "        qc.cx(qr[4],qr[3])\n",
    "        qc.cx(qr[4],qr[2])\n",
    "        qc.cx(qr[4],qr[1])\n",
    "        qc.cx(qr[4],qr[0])\n",
    "    elif a == 8:\n",
    "        qc.cswap(qr[4],qr[1],qr[0])\n",
    "        qc.cswap(qr[4],qr[2],qr[1])\n",
    "        qc.cswap(qr[4],qr[3],qr[2])\n",
    "    elif a == 11: # this is included for completeness\n",
    "        qc.cswap(qr[4],qr[2],qr[0])\n",
    "        qc.cswap(qr[4],qr[3],qr[1])\n",
    "        qc.cx(qr[4],qr[3])\n",
    "        qc.cx(qr[4],qr[2])\n",
    "        qc.cx(qr[4],qr[1])\n",
    "        qc.cx(qr[4],qr[0])\n",
    "    elif a == 13:\n",
    "        qc.cswap(qr[4],qr[3],qr[2])\n",
    "        qc.cswap(qr[4],qr[2],qr[1])\n",
    "        qc.cswap(qr[4],qr[1],qr[0])\n",
    "        qc.cx(qr[4],qr[3])\n",
    "        qc.cx(qr[4],qr[2])\n",
    "        qc.cx(qr[4],qr[1])\n",
    "        qc.cx(qr[4],qr[0])"
   ]
  },
  {
   "cell_type": "markdown",
   "id": "743b058f",
   "metadata": {},
   "source": [
    "#### Circuito D"
   ]
  },
  {
   "cell_type": "code",
   "execution_count": 23,
   "id": "f28a9516",
   "metadata": {},
   "outputs": [],
   "source": [
    "# qc = circuito quântico, qr = registrador quântico, cr = registrador clássico, a = 2, 7, 8, 11 ou 13\n",
    "def circuit_aperiod15(qc,qr,cr,a):\n",
    "    if a == 11:\n",
    "        circuit_11period15(qc,qr,cr)\n",
    "        return\n",
    "    \n",
    "    # Initialize q[0] to |1> \n",
    "    qc.x(qr[0])\n",
    "\n",
    "    # Apply a**4 mod 15\n",
    "    qc.h(qr[4])\n",
    "    #   controlled identity on the remaining 4 qubits, which is equivalent to doing nothing\n",
    "    qc.h(qr[4])\n",
    "    #   measure\n",
    "    qc.measure(qr[4],cr[0])\n",
    "    #   reinitialise q[4] to |0>\n",
    "    qc.reset(qr[4])\n",
    "\n",
    "    # Apply a**2 mod 15\n",
    "    qc.h(qr[4])\n",
    "    #   controlled unitary\n",
    "    qc.cx(qr[4],qr[2])\n",
    "    qc.cx(qr[4],qr[0])\n",
    "    #   feed forward\n",
    "    with qc.if_test((cr, 1)):\n",
    "        qc.u(0, 0, math.pi/2.,qr[4])\n",
    "    qc.h(qr[4])\n",
    "    #   measure\n",
    "    qc.measure(qr[4],cr[1])\n",
    "    #   reinitialise q[4] to |0>\n",
    "    qc.reset(qr[4])\n",
    "\n",
    "    # Apply a mod 15\n",
    "    qc.h(qr[4])\n",
    "    #   controlled unitary.\n",
    "    circuit_amod15(qc,qr,cr,a)\n",
    "    #   feed forward\n",
    "    with qc.if_test((cr, 3)):\n",
    "        qc.u(0, 0, 3.*math.pi/4.,qr[4])\n",
    "    with qc.if_test((cr, 2)):\n",
    "        qc.u(0, 0, math.pi/2.,qr[4])\n",
    "    with qc.if_test((cr, 1)):\n",
    "        qc.u(0, 0, math.pi/4.,qr[4])\n",
    "    qc.h(qr[4])\n",
    "    #   measure\n",
    "    qc.measure(qr[4],cr[2])"
   ]
  },
  {
   "cell_type": "markdown",
   "id": "834a69ce",
   "metadata": {},
   "source": [
    "### Circuito C\n",
    "Circuito otimizado para $11mod15$"
   ]
  },
  {
   "cell_type": "code",
   "execution_count": 24,
   "id": "e24adb40",
   "metadata": {},
   "outputs": [],
   "source": [
    "def circuit_11period15(qc,qr,cr):\n",
    "    # Inicializa q[0] com |1> \n",
    "    qc.x(qr[0])\n",
    "\n",
    "    # Aplica x**4 mod 15\n",
    "    qc.h(qr[4])\n",
    "    #   controlled identity on the remaining 4 qubits, which is equivalent to doing nothing\n",
    "    qc.h(qr[4])\n",
    "    #   measure\n",
    "    qc.measure(qr[4],cr[0])\n",
    "    #   reinitialise q[4] to |0>\n",
    "    qc.reset(qr[4])\n",
    "\n",
    "    # Apply a**2 mod 15\n",
    "    qc.h(qr[4])\n",
    "    #   controlled identity on the remaining 4 qubits, which is equivalent to doing nothing\n",
    "    #   feed forward\n",
    "    with qc.if_test((cr, 1)):\n",
    "        qc.u(0, 0, math.pi/2.,qr[4])\n",
    "    qc.h(qr[4])\n",
    "    #   measure\n",
    "    qc.measure(qr[4],cr[1])\n",
    "    #   reinitialise q[4] to |0>\n",
    "    qc.reset(qr[4])\n",
    "\n",
    "    # Apply 11 mod 15\n",
    "    qc.h(qr[4])\n",
    "    #   controlled unitary.\n",
    "    qc.cx(qr[4],qr[3])\n",
    "    qc.cx(qr[4],qr[1])\n",
    "    #   feed forward\n",
    "    with qc.if_test((cr, 3)):\n",
    "        qc.u(0, 0, 3.*math.pi/4.,qr[4])\n",
    "    with qc.if_test((cr, 2)):\n",
    "        qc.u(0, 0, math.pi/2.,qr[4])\n",
    "    with qc.if_test((cr, 1)):\n",
    "        qc.u(0, 0, math.pi/4.,qr[4])\n",
    "    qc.h(qr[4])\n",
    "    #   measure\n",
    "    qc.measure(qr[4],cr[2])"
   ]
  },
  {
   "cell_type": "markdown",
   "id": "3e96f65c",
   "metadata": {},
   "source": [
    "Construindo um circuito para $a = 7$ e plotando os resultados, temos:"
   ]
  },
  {
   "cell_type": "code",
   "execution_count": 25,
   "id": "3c23b3d7",
   "metadata": {},
   "outputs": [
    {
     "data": {
      "image/png": "[encoded data removed]",
      "text/plain": [
       "<Figure size 2210.55x1120.39 with 1 Axes>"
      ]
     },
     "execution_count": 25,
     "metadata": {},
     "output_type": "execute_result"
    }
   ],
   "source": [
    "q = QuantumRegister(5, 'q')\n",
    "c = ClassicalRegister(5, 'c')\n",
    "\n",
    "shor = QuantumCircuit(q, c)\n",
    "circuit_aperiod15(shor,q,c,7)\n",
    "shor.draw(output='mpl')"
   ]
  },
  {
   "cell_type": "code",
   "execution_count": 26,
   "id": "9848cdda",
   "metadata": {},
   "outputs": [
    {
     "data": {
      "image/png": "[encoded data removed]",
      "text/plain": [
       "<Figure size 640x480 with 1 Axes>"
      ]
     },
     "metadata": {},
     "output_type": "display_data"
    }
   ],
   "source": [
    "sampler = Sampler()\n",
    "\n",
    "job = sampler.run(shor)\n",
    "result = job.result()\n",
    "\n",
    "dist0 = result.quasi_dists[0]\n",
    "\n",
    "key_new = [str(key/2**2) for key in list(dist0.keys())]\n",
    "dist1 = dict(zip(key_new, dist0.values()))\n",
    "\n",
    "fig, ax = plt.subplots(1,1)\n",
    "plot_histogram(dist0, ax=ax)\n",
    "# plot_histogram(dist1, ax=ax[1])\n",
    "plt.tight_layout()"
   ]
  },
  {
   "cell_type": "markdown",
   "id": "c9874d20",
   "metadata": {},
   "source": [
    "Os valores 0, 2, 4 e 6 são os números com amplitude significativa e possuem probabilidades muito próximas. Usando expansão por frações para $x/2^3$, apenas 2 e 6 dão o período correto $r=4$."
   ]
  },
  {
   "cell_type": "markdown",
   "id": "86219994",
   "metadata": {},
   "source": [
    "# Calcular fatores usando o período calculado"
   ]
  },
  {
   "cell_type": "markdown",
   "id": "9c30174e",
   "metadata": {},
   "source": [
    "Fazendo $p = gdc(a^{r/2}+1, 15) = gdc(7^{4/2}+1, 15)$ e $ q = gdc(a^{r/2}-1, 15) = gdc(7^{4/2}-1, 15)$, temos que $p=5$ e $q=3$, que são, de fato, os fatores de 15."
   ]
  }
 ],
 "metadata": {
  "kernelspec": {
   "display_name": "Python 3",
   "language": "python",
   "name": "python3"
  },
  "language_info": {
   "codemirror_mode": {
    "name": "ipython",
    "version": 3
   },
   "file_extension": ".py",
   "mimetype": "text/x-python",
   "name": "python",
   "nbconvert_exporter": "python",
   "pygments_lexer": "ipython3",
   "version": "3.12.3"
  }
 },
 "nbformat": 4,
 "nbformat_minor": 5
}
