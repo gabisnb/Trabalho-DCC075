{
 "cells": [
  {
   "cell_type": "code",
   "execution_count": null,
   "metadata": {},
   "outputs": [],
   "source": [
    "%pip install qiskit\n",
    "%pip install qiskit-ibm-runtime\n",
    "%pip install qiskit[visualization]\n",
    "%pip install qiskit_aer"
   ]
  },
  {
   "cell_type": "code",
   "execution_count": null,
   "metadata": {},
   "outputs": [],
   "source": [
    "from math import gcd,log\n",
    "from random import randint\n",
    "import numpy as np\n",
    "from qiskit import *\n",
    "\n",
    "from qiskit.primitives import BackendSamplerV2\n",
    "from qiskit.providers.basic_provider import BasicProvider\n",
    "from qiskit_aer import AerSimulator\n",
    "from qiskit_aer.primitives import Sampler\n",
    "\n",
    "import RSA_module\n",
    "import Shor_module"
   ]
  },
  {
   "cell_type": "code",
   "execution_count": null,
   "metadata": {},
   "outputs": [],
   "source": [
    "decrypted_msg = RSA_module.decrypt(encryption_obj, private)\n",
    "\n",
    "print(\"\\nMensagem decriptada: \" + decrypted_msg)"
   ]
  },
  {
   "cell_type": "code",
   "execution_count": null,
   "metadata": {},
   "outputs": [],
   "source": [
    "def modular_inverse(a,m): \n",
    "    a = a % m; \n",
    "    for x in range(1, m) : \n",
    "        if ((a * x) % m == 1) : \n",
    "            return x \n",
    "    return 1"
   ]
  },
  {
   "cell_type": "code",
   "execution_count": null,
   "metadata": {},
   "outputs": [],
   "source": [
    "N=18727 # 61*307\n",
    "assert N>0,\"Input must be positive\"\n",
    "print(Shor_module.shors_breaker(N))\n"
   ]
  },
  {
   "cell_type": "code",
   "execution_count": null,
   "metadata": {},
   "outputs": [],
   "source": [
    "bit_length = 4\n",
    "\n",
    "public, private = RSA_module.generate_keypair(2**bit_length)\n",
    "print(\"\\nChave pública: \" + str(public))\n",
    "print(\"Chave privada: \" + str(private))"
   ]
  },
  {
   "cell_type": "code",
   "execution_count": null,
   "metadata": {},
   "outputs": [],
   "source": [
    "msg = \"Olá mundo!\"\n",
    "encrypted_msg, encryption_obj = RSA_module.encrypt(msg, public)\n",
    "\n",
    "print(\"\\nMensagem original: \" + msg)\n",
    "print(\"Mensagem encriptada: \" + encrypted_msg)"
   ]
  },
  {
   "cell_type": "code",
   "execution_count": null,
   "metadata": {},
   "outputs": [],
   "source": [
    "N_shor = public[1]\n",
    "assert N_shor>0,\"Input must be positive\"\n",
    "p,q = Shor_module.shors_breaker(N_shor)\n",
    "# Obtem chave privada\n",
    "phi = (p-1) * (q-1)  \n",
    "d_shor = modular_inverse(public[0], phi) "
   ]
  },
  {
   "cell_type": "code",
   "execution_count": null,
   "metadata": {},
   "outputs": [],
   "source": [
    "print(\"\\nChave pública: \" + str(public))\n",
    "print(\"Chave privada: \" + str(private))\n",
    "print('N: ' + str(N_shor))\n",
    "print('p: ' + str(p) + ', q: ' + str(q))"
   ]
  },
  {
   "cell_type": "code",
   "execution_count": null,
   "metadata": {},
   "outputs": [],
   "source": [
    "decrypted_msg = RSA_module.decrypt(encryption_obj, (d_shor,N_shor))\n",
    "\n",
    "print('\\nMensagem quebrada com o algorítmo de Shor: ' + decrypted_msg + \"\\n\")"
   ]
  }
 ],
 "metadata": {
  "kernelspec": {
   "display_name": "Python 3",
   "language": "python",
   "name": "python3"
  },
  "language_info": {
   "codemirror_mode": {
    "name": "ipython",
    "version": 3
   },
   "file_extension": ".py",
   "mimetype": "text/x-python",
   "name": "python",
   "nbconvert_exporter": "python",
   "pygments_lexer": "ipython3",
   "version": "3.12.3"
  }
 },
 "nbformat": 4,
 "nbformat_minor": 2
}
