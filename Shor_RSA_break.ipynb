{
 "cells": [
  {
   "cell_type": "code",
   "execution_count": null,
   "metadata": {},
   "outputs": [],
   "source": [
    "%pip install qiskit\n",
    "%pip install qiskit-ibm-runtime\n",
    "%pip install qiskit[visualization]\n",
    "%pip install qiskit_aer"
   ]
  },
  {
   "cell_type": "code",
   "execution_count": null,
   "metadata": {},
   "outputs": [],
   "source": [
    "from math import gcd,log\n",
    "from random import randint\n",
    "import numpy as np\n",
    "from qiskit import *\n",
    "\n",
    "from qiskit.primitives import BackendSamplerV2\n",
    "from qiskit.providers.basic_provider import BasicProvider\n",
    "from qiskit_aer import AerSimulator\n",
    "from qiskit_aer.primitives import Sampler\n",
    "\n",
    "import RSA_module\n",
    "\n",
    "# To get the qasm_simulator directly\n",
    "qasm_sim = AerSimulator()\n",
    "# qasm_sim = BasicProvider().get_backend(\"qasm_simulator\")\n",
    "\n",
    "bit_length = 4\n",
    "\n",
    "public, private = RSA_module.generate_keypair(2**bit_length)\n",
    "print(\"\\nChave pública: \" + str(public))\n",
    "print(\"Chave privada: \" + str(private))"
   ]
  },
  {
   "cell_type": "code",
   "execution_count": null,
   "metadata": {},
   "outputs": [],
   "source": [
    "msg = \"Olá mundo!\"\n",
    "encrypted_msg, encryption_obj = RSA_module.encrypt(msg, public)\n",
    "\n",
    "print(\"\\nMensagem original: \" + msg)\n",
    "print(\"Mensagem encriptada: \" + encrypted_msg)"
   ]
  },
  {
   "cell_type": "code",
   "execution_count": null,
   "metadata": {},
   "outputs": [],
   "source": [
    "decrypted_msg = RSA_module.decrypt(encryption_obj, private)\n",
    "\n",
    "print(\"\\nMensagem decriptada: \" + decrypted_msg)"
   ]
  },
  {
   "cell_type": "code",
   "execution_count": null,
   "metadata": {},
   "outputs": [],
   "source": [
    "def period(a,N):\n",
    "    available_qubits = 16 \n",
    "    r=-1   \n",
    "    \n",
    "    if N >= 2**available_qubits:\n",
    "        print(str(N)+' is too big for IBMQX')\n",
    "    \n",
    "    qr = QuantumRegister(available_qubits)   \n",
    "    cr = ClassicalRegister(available_qubits)\n",
    "    qc = QuantumCircuit(qr,cr)\n",
    "    x0 = randint(1, N-1) \n",
    "    x_binary = np.zeros(available_qubits, dtype=bool)\n",
    "    \n",
    "    for i in range(1, available_qubits + 1):\n",
    "        bit_state = (N%(2**i)!=0)\n",
    "        if bit_state:\n",
    "            N -= 2**(i-1)\n",
    "        x_binary[available_qubits-i] = bit_state    \n",
    "    \n",
    "    for i in range(0,available_qubits):\n",
    "        if x_binary[available_qubits-i-1]:\n",
    "            qc.x(qr[i])\n",
    "    x = x0\n",
    "    \n",
    "    while np.logical_or(x != x0, r <= 0):\n",
    "        r+=1\n",
    "        qc.measure(qr, cr) \n",
    "        for i in range(0,3): \n",
    "            qc.x(qr[i])\n",
    "        qc.cx(qr[2],qr[1])\n",
    "        qc.cx(qr[1],qr[2])\n",
    "        qc.cx(qr[2],qr[1])\n",
    "        qc.cx(qr[1],qr[0])\n",
    "        qc.cx(qr[0],qr[1])\n",
    "        qc.cx(qr[1],qr[0])\n",
    "        qc.cx(qr[3],qr[0])\n",
    "        qc.cx(qr[0],qr[1])\n",
    "        qc.cx(qr[1],qr[0])\n",
    "        \n",
    "        sampler = Sampler()\n",
    "        job = sampler.run(qc, shots=1024)\n",
    "        result = job.result()\n",
    "        quasi_dist = result.quasi_dists[0]\n",
    "        total_shots = result.metadata[0]['shots'] # Get total shots from metadata\n",
    "        counts = {}\n",
    "        for bitstring, prob in quasi_dist.items():\n",
    "            count = round(prob * total_shots)\n",
    "            if count > 0: # Only include outcomes with non-zero counts\n",
    "                counts[bitstring] = count\n",
    "        print(qc)\n",
    "        results = [[],[]]\n",
    "        for key,value in counts.items(): #the result should be deterministic but there might be some quantum calculation error so we take the most reccurent output\n",
    "            results[0].append(key)\n",
    "            results[1].append(int(value))\n",
    "        s = results[0][np.argmax(np.array(results[1]))]\n",
    "    return r"
   ]
  },
  {
   "cell_type": "code",
   "execution_count": null,
   "metadata": {},
   "outputs": [],
   "source": [
    "def shors_breaker(N):\n",
    "    N = int(N)\n",
    "    while True:\n",
    "        a=randint(0,N-1)\n",
    "        g=gcd(a,N)\n",
    "        if g!=1 or N==1:\n",
    "            return g,N//g\n",
    "        else:\n",
    "            r=period(a,N) \n",
    "            if r % 2 != 0:\n",
    "                continue\n",
    "            elif pow(a,r//2,N)==-1:\n",
    "                continue\n",
    "            else:\n",
    "                p=gcd(pow(a,r//2)+1,N)\n",
    "                q=gcd(pow(a,r//2)-1,N)\n",
    "                if p==N or q==N:\n",
    "                    continue\n",
    "                return p,q"
   ]
  },
  {
   "cell_type": "code",
   "execution_count": null,
   "metadata": {},
   "outputs": [],
   "source": [
    "def modular_inverse(a,m): \n",
    "    a = a % m; \n",
    "    for x in range(1, m) : \n",
    "        if ((a * x) % m == 1) : \n",
    "            return x \n",
    "    return 1"
   ]
  },
  {
   "cell_type": "code",
   "execution_count": null,
   "metadata": {},
   "outputs": [],
   "source": [
    "N=18727 # 61*307\n",
    "assert N>0,\"Input must be positive\"\n",
    "print(shors_breaker(N))\n"
   ]
  },
  {
   "cell_type": "code",
   "execution_count": null,
   "metadata": {},
   "outputs": [],
   "source": [
    "N_shor = public[1]\n",
    "assert N_shor>0,\"Input must be positive\"\n",
    "p,q = shors_breaker(N_shor)\n",
    "# Obtem chave privada\n",
    "phi = (p-1) * (q-1)  \n",
    "d_shor = modular_inverse(public[0], phi) "
   ]
  },
  {
   "cell_type": "code",
   "execution_count": null,
   "metadata": {},
   "outputs": [],
   "source": [
    "print(\"\\nChave pública: \" + str(public))\n",
    "print(\"Chave privada: \" + str(private))\n",
    "print('N: ' + str(N_shor))\n",
    "print('p: ' + str(p) + ', q: ' + str(q))"
   ]
  },
  {
   "cell_type": "code",
   "execution_count": null,
   "metadata": {},
   "outputs": [],
   "source": [
    "decrypted_msg = RSA_module.decrypt(encryption_obj, (d_shor,N_shor))\n",
    "\n",
    "print('\\nMensagem quebrada com o algorítmo de Shor: ' + decrypted_msg + \"\\n\")"
   ]
  }
 ],
 "metadata": {
  "kernelspec": {
   "display_name": "Python 3",
   "language": "python",
   "name": "python3"
  },
  "language_info": {
   "codemirror_mode": {
    "name": "ipython",
    "version": 3
   },
   "file_extension": ".py",
   "mimetype": "text/x-python",
   "name": "python",
   "nbconvert_exporter": "python",
   "pygments_lexer": "ipython3",
   "version": "3.13.2"
  }
 },
 "nbformat": 4,
 "nbformat_minor": 2
}
